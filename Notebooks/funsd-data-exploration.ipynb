{
 "cells": [
  {
   "cell_type": "markdown",
   "metadata": {
    "collapsed": true,
    "pycharm": {
     "name": "#%% md\n"
    }
   },
   "source": [
    "# Imports"
   ]
  },
  {
   "cell_type": "code",
   "execution_count": 1,
   "metadata": {
    "pycharm": {
     "name": "#%%\n"
    }
   },
   "outputs": [],
   "source": [
    "import numpy as np\n",
    "import pandas as pd\n",
    "import matplotlib.pyplot as plt\n",
    "import cv2\n",
    "import os\n",
    "from PIL import Image\n",
    "from torch.utils.data import Dataset\n",
    "import json\n",
    "\n",
    "from tqdm.notebook import tqdm"
   ]
  },
  {
   "cell_type": "markdown",
   "metadata": {
    "pycharm": {
     "name": "#%%\n"
    }
   },
   "source": [
    "# Dataset Class Definition"
   ]
  },
  {
   "cell_type": "code",
   "execution_count": 34,
   "metadata": {},
   "outputs": [],
   "source": [
    "class FUNSDDataset(Dataset):\n",
    "    def __init__(self, image_dir, annotations_dir, mask_dir=None, transform=None):\n",
    "        self.image_dir = image_dir\n",
    "        self.annotations_dir = annotations_dir\n",
    "        self.transform = transform\n",
    "        self.images = os.listdir(image_dir)\n",
    "        self.mask_dir = mask_dir\n",
    "        \n",
    "        \n",
    "    def __len__(self):\n",
    "        return len(self.images)\n",
    "    \n",
    "    \n",
    "    def __getitem__(self, index):\n",
    "        img_path = os.path.join(self.image_dir, self.images[index])\n",
    "        mask_path = os.path.join(self.mask_dir, self.images[index].replace('jpg', '_mask.jpg'))\n",
    "        \n",
    "        with Image.open(img_path) as img:\n",
    "            image = np.array(img.convert('RGB'))\n",
    "            mask = np.array(img.convert('L'), dtype=np.float32)\n",
    "        \n",
    "        mask[mask == 255.0] = 1.0     \n",
    "        if self.transform is not None:\n",
    "            augmentations = self.transform(image=image)\n",
    "            image = augmentations['image']\n",
    "            mask = augemntations['mask']\n",
    "        \n",
    "        return image, mask\n",
    "    \n",
    "    \n",
    "    def create_bbox_df(self, box_path):\n",
    "        bbox_word_list = []\n",
    "        with open(box_path, 'r', errors='ignore') as f:\n",
    "            data = json.load(f)\n",
    "            for form in data['form']:\n",
    "                for words in form['words']:\n",
    "                    bbox_word_list.append([*words['box'], words['text']])\n",
    "            \n",
    "        bbox_df = pd.DataFrame(bbox_word_list,\n",
    "                              columns=['x0', 'y0', 'x2', 'y2', 'line'])\n",
    "        \n",
    "        return bbox_df\n",
    "\n",
    "    \n",
    "    def create_masks(self):\n",
    "        for img in tqdm(self.images):\n",
    "            img_path = os.path.join(self.image_dir, img)\n",
    "            annotations_path = os.path.join(self.annotations_dir, img.replace('.png', '.json'))\n",
    "            bbox_df = self.create_bbox_df(box_path=annotations_path)\n",
    "            \n",
    "            img_read = cv2.imread(img_path)\n",
    "            mask = np.zeros((img_read.shape[0], img_read.shape[1]), dtype=np.uint8)\n",
    "            for index, row in bbox_df.iterrows():\n",
    "                mask[row['y0']:row['y2'], row['x0']:row['x2']] = 255\n",
    "            \n",
    "            if self.mask_dir is None:\n",
    "                self.mask_dir = '../data/FUNSD/training_data/mask/'\n",
    "                os.mkdir(self.mask_dir)\n",
    "            \n",
    "            mask_path = os.path.join(self.mask_dir, img.replace('.png', '_mask.png'))   \n",
    "            if not os.path.exists(mask_path):\n",
    "                cv2.imwrite(mask_path, mask)\n",
    "        "
   ]
  },
  {
   "cell_type": "code",
   "execution_count": null,
   "metadata": {},
   "outputs": [],
   "source": []
  },
  {
   "cell_type": "code",
   "execution_count": 35,
   "metadata": {},
   "outputs": [
    {
     "data": {
      "application/vnd.jupyter.widget-view+json": {
       "model_id": "d6cd15e481c443b98aadafd3c8a873dc",
       "version_major": 2,
       "version_minor": 0
      },
      "text/plain": [
       "  0%|          | 0/149 [00:00<?, ?it/s]"
      ]
     },
     "metadata": {},
     "output_type": "display_data"
    }
   ],
   "source": [
    "dataset = FUNSDDataset(\n",
    "    image_dir='../data/FUNSD/training_data/images/', \n",
    "    annotations_dir='../data/FUNSD/training_data/annotations'\n",
    "    #mask_dir='../data/FUNSD/training_data/mask/'\n",
    ")\n",
    "\n",
    "dataset.create_masks()\n",
    "#example_bbox_df = dataset.create_bbox_df(os.path.join(dataset.annotations_dir, '0000971160.json'))\n",
    "#print(example_bbox_df)"
   ]
  },
  {
   "cell_type": "code",
   "execution_count": null,
   "metadata": {},
   "outputs": [],
   "source": []
  },
  {
   "cell_type": "code",
   "execution_count": null,
   "metadata": {},
   "outputs": [],
   "source": []
  }
 ],
 "metadata": {
  "kernelspec": {
   "display_name": "Python 3 (ipykernel)",
   "language": "python",
   "name": "python3"
  },
  "language_info": {
   "codemirror_mode": {
    "name": "ipython",
    "version": 3
   },
   "file_extension": ".py",
   "mimetype": "text/x-python",
   "name": "python",
   "nbconvert_exporter": "python",
   "pygments_lexer": "ipython3",
   "version": "3.10.5"
  }
 },
 "nbformat": 4,
 "nbformat_minor": 1
}
