{
 "cells": [
  {
   "cell_type": "markdown",
   "metadata": {
    "collapsed": true,
    "pycharm": {
     "name": "#%% md\n"
    }
   },
   "source": [
    "# Imports"
   ]
  },
  {
   "cell_type": "code",
   "execution_count": 26,
   "metadata": {
    "pycharm": {
     "name": "#%%\n"
    }
   },
   "outputs": [],
   "source": [
    "import numpy as np\n",
    "import pandas as pd\n",
    "import matplotlib as plt\n",
    "import cv2\n",
    "import os\n",
    "from PIL import Image\n",
    "from torch.utils.data import Dataset"
   ]
  },
  {
   "cell_type": "markdown",
   "metadata": {
    "pycharm": {
     "name": "#%%\n"
    }
   },
   "source": [
    "# Dataset Class Definition"
   ]
  },
  {
   "cell_type": "code",
   "execution_count": 21,
   "metadata": {},
   "outputs": [],
   "source": [
    "class SROIEDataset(Dataset):\n",
    "    def __init__(self, image_dir, entities_dir, box_dir, mask_dir=None, transform=None):\n",
    "        self.image_dir = image_dir\n",
    "        self.entities_dir = entities_dir\n",
    "        self.box_dir = box_dir\n",
    "        self.transform = transform\n",
    "        self.images = os.listdir(image_dir)\n",
    "        self.mask_dir = mask_dir\n",
    "        \n",
    "        \n",
    "    def __len__(self):\n",
    "        return len(self.images)\n",
    "    \n",
    "    \n",
    "    def __getitem__(self, index):\n",
    "        img_path = os.path.join(self.image_dir, self.images[index])\n",
    "        enties_path = os.path.join(self.entities_dir, self.images[index].replace('.jpg', '.txt'))\n",
    "        box_path = os.path.join(self.entities_dir, self.images[index].replace('.jpg', '.txt'))\n",
    "        \n",
    "        with Image.open(img_path) as img:\n",
    "            image = np.array(img.convert('RGB'))\n",
    "        \n",
    "        if self.transform is not None:\n",
    "            augmentations = self.transform(image=image)\n",
    "            image = augmentations['image']\n",
    "        \n",
    "        return image\n",
    "    \n",
    "    \n",
    "    def grab_points(self, box_path):\n",
    "        bbox_word_list = []\n",
    "        with open(box_path, 'r', errors='ignore') as f:\n",
    "            for line in f.read().splitlines():\n",
    "                split_lines = line.split(',')\n",
    "                \n",
    "                bbox = np.array(split_lines[0:8], dtype=np.int32)\n",
    "                text = ','.join(split_lines[8:])\n",
    "                bbox_word_list.append([*bbox, text])\n",
    "        \n",
    "        bbox_df = pd.DataFrame(bbox_word_list, \n",
    "                               columns=['x0', 'y0', 'x1', 'y1', 'x2', 'y2', 'x3', 'y3', 'line'],\n",
    "                              dtype=np.int16)\n",
    "        \n",
    "        bbox_df = bbox_df.drop(columns=['x1', 'y1', 'x3', 'y3'])\n",
    "        return bbox_df\n",
    "\n",
    "        \n",
    "    \n",
    "    def create_masks(self):\n",
    "        for img in images:\n",
    "            img_path = os.path.join(self.image_dir, img)\n",
    "            img_read = cv2.imread(img_path)\n",
    "            mask = np.zeros((image_read.shape[0], image_read.shape[1]), dtype=np.uint8)\n",
    "        "
   ]
  },
  {
   "cell_type": "code",
   "execution_count": null,
   "metadata": {},
   "outputs": [],
   "source": []
  },
  {
   "cell_type": "code",
   "execution_count": 31,
   "metadata": {},
   "outputs": [
    {
     "name": "stdout",
     "output_type": "stream",
     "text": [
      "     x0    y0   x2    y2                                  line\n",
      "0    11    28  366    85                             3-1707067\n",
      "1   448   163  616   193                            (481500-M)\n",
      "2   113   203  660   229             C W KHOO HARDWARE SDN BHD\n",
      "3   224   233  552   261             NO.50 , JALAN PBS 14/11 ,\n",
      "4   109   266  666   294  KAWASAN PERINDUSTRIAN BUKIT SERDANG,\n",
      "5   133   298  360   322                     TEL : 03-89410243\n",
      "6   409   298  639   323                     FAX : 03-89410243\n",
      "7   206   329  568   358            GST REG NO. : 000549584896\n",
      "8   279   383  452   408                           TAX INVOICE\n",
      "9    50   435  189   458                           INVOICE NO.\n",
      "10  230   434  426   463                        : CR 1803/0064\n",
      "11   52   468  112   491                                  DATE\n",
      "12  231   468  509   491                 : 01-03-18 5:23:26 PM\n",
      "13   52   502  188   524                           CASHIER NO.\n",
      "14  230   501  308   525                                : KHOO\n",
      "15   52   535  195   558                           COUNTER NO.\n",
      "16  231   536  277   559                                  : C1\n",
      "17   53   572  204   594                          PRINTED DATE\n",
      "18  230   572  509   595                 : 01-03-18 5:23:30 PM\n",
      "19   51   610  188   632                             ITEM NAME\n",
      "20  249   611  293   637                                   QTY\n",
      "21  338   611  454   633                            UNIT PRICE\n",
      "22  526   612  623   632                                AMOUNT\n",
      "23   50   648  278   674                       AIR ADAPTOR @ 1\n",
      "24  275   690  292   714                                     5\n",
      "25  397   691  452   713                                  4.00\n",
      "26  548   690  660   716                              20.00 SR\n",
      "27   51   743  175   771                             5 ITEM(S)\n",
      "28  282   743  447   772                         TOTAL (MYR) :\n",
      "29  550   743  622   767                                 20.00\n",
      "30  294   788  447   813                            GST @ 6% :\n",
      "31  568   789  622   811                                  1.20\n",
      "32  235   837  447   865                     NET TOTAL (MYR) :\n",
      "33  551   839  623   861                                 21.20\n",
      "34  259   880  447   908                       ROUNDING ADJ. :\n",
      "35  566   882  621   904                                  0.00\n",
      "36  121   930  446   959             NET TOTAL ROUNDED (MYR) :\n",
      "37  551   933  623   954                                 21.20\n",
      "38   51   969  112   992                                  CASH\n",
      "39  439   975  446   993                                     :\n",
      "40  551   970  623   994                                 21.20\n",
      "41   51  1018  146  1046                                CHANGE\n",
      "42  438  1022  447  1042                                     :\n",
      "43  567  1020  622  1042                                  0.00\n",
      "44   52  1103  201  1127                           GST SUMMARY\n",
      "45  328  1103  379  1124                                  ITEM\n",
      "46  567  1103  682  1128                             GST (MYR)\n",
      "47   51  1149  154  1173                               SR @ 6%\n",
      "48  367  1150  380  1171                                     1\n",
      "49  491  1150  551  1170                                 20.00\n",
      "50  636  1149  683  1170                                  1.20\n",
      "51  156  1259  547  1288        THANK YOU. PLEASE COME AGAIN !\n",
      "52  394  1103  549  1128                          AMOUNT (MYR)\n"
     ]
    },
    {
     "name": "stderr",
     "output_type": "stream",
     "text": [
      "/var/folders/bq/xk_k209n5lqf_jfjqwjgypbw0000gn/T/ipykernel_78445/3699642177.py:40: FutureWarning: Could not cast to int16, falling back to object. This behavior is deprecated. In a future version, when a dtype is passed to 'DataFrame', either all columns will be cast to that dtype, or a TypeError will be raised.\n",
      "  bbox_df = pd.DataFrame(bbox_word_list,\n"
     ]
    }
   ],
   "source": [
    "dataset = SROIEDataset(\n",
    "    image_dir='../data/SROIE2019/train/img/', \n",
    "    entities_dir='../data/SROIE2019/train/entities',\n",
    "    box_dir='../data/SROIE2019/train/box'\n",
    ")\n",
    "\n",
    "example_bbox_df = dataset.grab_points(os.path.join(dataset.box_dir, 'X51005365179.txt'))\n",
    "print(example_bbox_df)"
   ]
  },
  {
   "cell_type": "code",
   "execution_count": null,
   "metadata": {},
   "outputs": [],
   "source": []
  }
 ],
 "metadata": {
  "kernelspec": {
   "display_name": "Python 3 (ipykernel)",
   "language": "python",
   "name": "python3"
  },
  "language_info": {
   "codemirror_mode": {
    "name": "ipython",
    "version": 3
   },
   "file_extension": ".py",
   "mimetype": "text/x-python",
   "name": "python",
   "nbconvert_exporter": "python",
   "pygments_lexer": "ipython3",
   "version": "3.10.5"
  }
 },
 "nbformat": 4,
 "nbformat_minor": 1
}