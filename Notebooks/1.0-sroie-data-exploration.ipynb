{
 "cells": [
  {
   "cell_type": "markdown",
   "metadata": {
    "collapsed": true,
    "pycharm": {
     "name": "#%% md\n"
    }
   },
   "source": [
    "# Imports"
   ]
  },
  {
   "cell_type": "code",
   "execution_count": 38,
   "metadata": {
    "pycharm": {
     "name": "#%%\n"
    }
   },
   "outputs": [],
   "source": [
    "import numpy as np\n",
    "import pandas as pd\n",
    "import matplotlib.pyplot as plt\n",
    "import cv2\n",
    "import os\n",
    "from PIL import Image\n",
    "from torch.utils.data import Dataset\n",
    "\n",
    "from tqdm.notebook import tqdm"
   ]
  },
  {
   "cell_type": "markdown",
   "metadata": {
    "pycharm": {
     "name": "#%%\n"
    }
   },
   "source": [
    "# Dataset Class Definition"
   ]
  },
  {
   "cell_type": "code",
   "execution_count": 43,
   "metadata": {},
   "outputs": [],
   "source": [
    "class SROIEDataset(Dataset):\n",
    "    def __init__(self, image_dir, entities_dir, box_dir, mask_dir=None, transform=None):\n",
    "        self.image_dir = image_dir\n",
    "        self.entities_dir = entities_dir\n",
    "        self.box_dir = box_dir\n",
    "        self.transform = transform\n",
    "        self.images = os.listdir(image_dir)\n",
    "        self.mask_dir = mask_dir\n",
    "        \n",
    "        \n",
    "    def __len__(self):\n",
    "        return len(self.images)\n",
    "    \n",
    "    \n",
    "    def __getitem__(self, index):\n",
    "        img_path = os.path.join(self.image_dir, self.images[index])\n",
    "        mask_path = os.path.join(self.mask_dir, self.images[index].replace('jpg', '_mask.jpg'))\n",
    "        enties_path = os.path.join(self.entities_dir, self.images[index].replace('.jpg', '.txt'))\n",
    "        box_path = os.path.join(self.entities_dir, self.images[index].replace('.jpg', '.txt'))\n",
    "        \n",
    "        with Image.open(img_path) as img:\n",
    "            image = np.array(img.convert('RGB'))\n",
    "            mask = np.array(img.convert('L'), dtype=np.float32)\n",
    "        \n",
    "        mask[mask == 255.0] = 1.0     \n",
    "        if self.transform is not None:\n",
    "            augmentations = self.transform(image=image)\n",
    "            image = augmentations['image']\n",
    "            mask = augemntations['mask']\n",
    "        \n",
    "        return image, mask\n",
    "    \n",
    "    \n",
    "    def create_bbox_df(self, box_path):\n",
    "        bbox_word_list = []\n",
    "        with open(box_path, 'r', errors='ignore') as f:\n",
    "            for line in f.read().splitlines():\n",
    "                if len(line) == 0:\n",
    "                    continue\n",
    "                \n",
    "                split_lines = line.split(',')\n",
    "                \n",
    "                bbox = np.array(split_lines[0:8], dtype=np.int32)\n",
    "                text = ','.join(split_lines[8:])\n",
    "                bbox_word_list.append([*bbox, text])\n",
    "        \n",
    "        bbox_df = pd.DataFrame(bbox_word_list, \n",
    "                               columns=['x0', 'y0', 'x1', 'y1', 'x2', 'y2', 'x3', 'y3', 'line']\n",
    "                              )\n",
    "        \n",
    "        bbox_df = bbox_df.drop(columns=['x1', 'y1', 'x3', 'y3'])\n",
    "        return bbox_df\n",
    "\n",
    "    \n",
    "    def create_masks(self):\n",
    "        for img in tqdm(self.images):\n",
    "            img_path = os.path.join(self.image_dir, img)\n",
    "            box_path = os.path.join(self.box_dir, img.replace('.jpg', '.txt'))\n",
    "            bbox_df = self.create_bbox_df(box_path=box_path)\n",
    "            img_read = cv2.imread(img_path)\n",
    "            mask = np.zeros((img_read.shape[0], img_read.shape[1]), dtype=np.uint8)\n",
    "            for index, row in bbox_df.iterrows():\n",
    "                mask[row['y0']:row['y2'], row['x0']:row['x2']] = 255\n",
    "            \n",
    "            if self.mask_dir is None:\n",
    "                self.mask_dir = '../data/SROIE2019/train/mask/'\n",
    "                os.mkdir(self.mask_dir)\n",
    "            \n",
    "            mask_path = os.path.join(self.mask_dir, img.replace('.jpg', '_mask.jpg'))   \n",
    "            if not os.path.exists(mask_path):\n",
    "                cv2.imwrite(mask_path, mask)\n",
    "        "
   ]
  },
  {
   "cell_type": "code",
   "execution_count": null,
   "metadata": {},
   "outputs": [],
   "source": []
  },
  {
   "cell_type": "code",
   "execution_count": 44,
   "metadata": {},
   "outputs": [
    {
     "data": {
      "application/vnd.jupyter.widget-view+json": {
       "model_id": "cfd5245e6eff4f26aea86117bb049e38",
       "version_major": 2,
       "version_minor": 0
      },
      "text/plain": [
       "  0%|          | 0/626 [00:00<?, ?it/s]"
      ]
     },
     "metadata": {},
     "output_type": "display_data"
    },
    {
     "name": "stderr",
     "output_type": "stream",
     "text": [
      "Corrupt JPEG data: bad Huffman code\n"
     ]
    }
   ],
   "source": [
    "dataset = SROIEDataset(\n",
    "    image_dir='../data/SROIE2019/train/img/', \n",
    "    entities_dir='../data/SROIE2019/train/entities',\n",
    "    box_dir='../data/SROIE2019/train/box',\n",
    "    mask_dir='../data/SROIE2019/train/mask/'\n",
    ")\n",
    "\n",
    "dataset.create_masks()\n",
    "#example_bbox_df = dataset.create_bbox_df(os.path.join(dataset.box_dir, 'X51005365179.txt'))\n",
    "#print(example_bbox_df)"
   ]
  },
  {
   "cell_type": "code",
   "execution_count": null,
   "metadata": {},
   "outputs": [],
   "source": []
  },
  {
   "cell_type": "code",
   "execution_count": null,
   "metadata": {},
   "outputs": [],
   "source": []
  }
 ],
 "metadata": {
  "kernelspec": {
   "display_name": "Python 3 (ipykernel)",
   "language": "python",
   "name": "python3"
  },
  "language_info": {
   "codemirror_mode": {
    "name": "ipython",
    "version": 3
   },
   "file_extension": ".py",
   "mimetype": "text/x-python",
   "name": "python",
   "nbconvert_exporter": "python",
   "pygments_lexer": "ipython3",
   "version": "3.10.5"
  }
 },
 "nbformat": 4,
 "nbformat_minor": 1
}